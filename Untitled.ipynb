{
 "cells": [
  {
   "cell_type": "code",
   "execution_count": 1,
   "metadata": {},
   "outputs": [],
   "source": [
    "import pandas as pd\n"
   ]
  },
  {
   "cell_type": "code",
   "execution_count": 2,
   "metadata": {},
   "outputs": [],
   "source": [
    "data = pd.read_csv('./GoT_dataset/character_data_S01-S08.csv')"
   ]
  },
  {
   "cell_type": "code",
   "execution_count": 4,
   "metadata": {},
   "outputs": [
    {
     "data": {
      "text/plain": [
       "Index(['id', 'name', 'sex', 'religion', 'occupation', 'social_status',\n",
       "       'allegiance_last', 'allegiance_switched', 'intro_season',\n",
       "       'intro_episode', 'intro_time_sec', 'intro_time_hrs', 'dth_flag',\n",
       "       'dth_season', 'dth_episode', 'dth_time_sec', 'dth_time_hrs',\n",
       "       'censor_time_sec', 'censor_time_hrs', 'exp_season', 'exp_episode',\n",
       "       'exp_time_sec', 'exp_time_hrs', 'featured_episode_count', 'prominence',\n",
       "       'dth_description', 'icd10_dx_code', 'icd10_dx_text', 'icd10_cause_code',\n",
       "       'icd10_cause_text', 'icd10_place_code', 'icd10_place_text',\n",
       "       'top_location', 'geo_location', 'time_of_day', 'Unnamed: 35',\n",
       "       'Unnamed: 36', 'Unnamed: 37', 'Unnamed: 38', 'Unnamed: 39',\n",
       "       'Unnamed: 40'],\n",
       "      dtype='object')"
      ]
     },
     "execution_count": 4,
     "metadata": {},
     "output_type": "execute_result"
    }
   ],
   "source": [
    "data.columns"
   ]
  },
  {
   "cell_type": "code",
   "execution_count": 6,
   "metadata": {},
   "outputs": [],
   "source": [
    "col_to_keep = ['name',\n",
    "               'sex', #1-Male , 2-Female\n",
    "               'religion', #1=Great Stallion,2=Lord of Light,3=Faith of the Seven,4=Old Gods,5=Drowned God,6=Many Faced God,7=Other, 9=Unknown/Unclear\n",
    "               'occupation',\n",
    "               'social_status',\n",
    "               'allegiance_last',\n",
    "               'allegiance_switched',\n",
    "               'dth_flag',\n",
    "               'dth_season', 'dth_episode', 'dth_time_sec', 'dth_time_hrs',\n",
    "               'censor_time_sec', 'censor_time_hrs', 'exp_season', 'exp_episode',\n",
    "               'exp_time_sec', 'exp_time_hrs', 'featured_episode_count', 'prominence',\n",
    "               'dth_description', 'icd10_dx_code', 'icd10_dx_text', 'icd10_cause_code',\n",
    "               'icd10_cause_text', 'icd10_place_code', 'icd10_place_text',\n",
    "               'top_location', 'geo_location', 'time_of_day']"
   ]
  },
  {
   "cell_type": "code",
   "execution_count": null,
   "metadata": {},
   "outputs": [],
   "source": []
  }
 ],
 "metadata": {
  "kernelspec": {
   "display_name": "Python [conda env:got]",
   "language": "python",
   "name": "conda-env-got-py"
  },
  "language_info": {
   "codemirror_mode": {
    "name": "ipython",
    "version": 3
   },
   "file_extension": ".py",
   "mimetype": "text/x-python",
   "name": "python",
   "nbconvert_exporter": "python",
   "pygments_lexer": "ipython3",
   "version": "3.7.6"
  }
 },
 "nbformat": 4,
 "nbformat_minor": 4
}
